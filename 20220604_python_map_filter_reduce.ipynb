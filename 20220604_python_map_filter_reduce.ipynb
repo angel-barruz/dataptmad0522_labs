{
 "cells": [
  {
   "cell_type": "markdown",
   "id": "93aad838",
   "metadata": {},
   "source": [
    "# Map, Filter, Reduce\n",
    "\n",
    "or Processing Iterables Without a Loop"
   ]
  },
  {
   "cell_type": "code",
   "execution_count": 1,
   "id": "69b86c46",
   "metadata": {},
   "outputs": [
    {
     "ename": "ModuleNotFoundError",
     "evalue": "No module named 'lxml'",
     "output_type": "error",
     "traceback": [
      "\u001b[1;31m---------------------------------------------------------------------------\u001b[0m",
      "\u001b[1;31mModuleNotFoundError\u001b[0m                       Traceback (most recent call last)",
      "Input \u001b[1;32mIn [1]\u001b[0m, in \u001b[0;36m<cell line: 5>\u001b[1;34m()\u001b[0m\n\u001b[0;32m      3\u001b[0m \u001b[38;5;28;01mimport\u001b[39;00m \u001b[38;5;21;01mrequests\u001b[39;00m\n\u001b[0;32m      4\u001b[0m \u001b[38;5;28;01mfrom\u001b[39;00m \u001b[38;5;21;01mbs4\u001b[39;00m \u001b[38;5;28;01mimport\u001b[39;00m BeautifulSoup\n\u001b[1;32m----> 5\u001b[0m \u001b[38;5;28;01mfrom\u001b[39;00m \u001b[38;5;21;01mlxml\u001b[39;00m \u001b[38;5;28;01mimport\u001b[39;00m etree\n\u001b[0;32m      6\u001b[0m \u001b[38;5;28;01mimport\u001b[39;00m \u001b[38;5;21;01mrandom\u001b[39;00m\n\u001b[0;32m      7\u001b[0m \u001b[38;5;28;01mfrom\u001b[39;00m \u001b[38;5;21;01mfunctools\u001b[39;00m \u001b[38;5;28;01mimport\u001b[39;00m reduce\n",
      "\u001b[1;31mModuleNotFoundError\u001b[0m: No module named 'lxml'"
     ]
    }
   ],
   "source": [
    "# Imports\n",
    "\n",
    "import requests\n",
    "from bs4 import BeautifulSoup\n",
    "from lxml import etree\n",
    "import random\n",
    "from functools import reduce"
   ]
  },
  {
   "cell_type": "markdown",
   "id": "0c183370",
   "metadata": {},
   "source": [
    "---"
   ]
  },
  {
   "cell_type": "code",
   "execution_count": null,
   "id": "a55e1f91",
   "metadata": {},
   "outputs": [],
   "source": [
    "# Web scraping example\n",
    "\n",
    "rate_content = requests.get('https://www.xe.com/currencyconverter/convert/?Amount=1&From=USD&To=EUR').content\n",
    "rate_soup = BeautifulSoup(rate_content, 'html.parser')\n",
    "rate_xpath = '//*[@id=\"__next\"]/div[2]/div[2]/section/div[2]/div/main/form/div[2]/div[1]/p[2]/text()[1]'\n",
    "rate_three = etree.HTML(str(rate_soup)).xpath(rate_xpath)[0]"
   ]
  },
  {
   "cell_type": "code",
   "execution_count": 2,
   "id": "47eae83e",
   "metadata": {},
   "outputs": [
    {
     "ename": "NameError",
     "evalue": "name 'random' is not defined",
     "output_type": "error",
     "traceback": [
      "\u001b[1;31m---------------------------------------------------------------------------\u001b[0m",
      "\u001b[1;31mNameError\u001b[0m                                 Traceback (most recent call last)",
      "Input \u001b[1;32mIn [2]\u001b[0m, in \u001b[0;36m<cell line: 1>\u001b[1;34m()\u001b[0m\n\u001b[1;32m----> 1\u001b[0m random_amounts \u001b[38;5;241m=\u001b[39m [random\u001b[38;5;241m.\u001b[39mrandint(\u001b[38;5;241m20\u001b[39m, \u001b[38;5;241m2000\u001b[39m) \u001b[38;5;28;01mfor\u001b[39;00m i \u001b[38;5;129;01min\u001b[39;00m \u001b[38;5;28mrange\u001b[39m(\u001b[38;5;241m10\u001b[39m)]\n\u001b[0;32m      2\u001b[0m current_rate \u001b[38;5;241m=\u001b[39m \u001b[38;5;28mfloat\u001b[39m(rate_three)\n\u001b[0;32m      3\u001b[0m \u001b[38;5;28mprint\u001b[39m(random_amounts)\n",
      "Input \u001b[1;32mIn [2]\u001b[0m, in \u001b[0;36m<listcomp>\u001b[1;34m(.0)\u001b[0m\n\u001b[1;32m----> 1\u001b[0m random_amounts \u001b[38;5;241m=\u001b[39m [\u001b[43mrandom\u001b[49m\u001b[38;5;241m.\u001b[39mrandint(\u001b[38;5;241m20\u001b[39m, \u001b[38;5;241m2000\u001b[39m) \u001b[38;5;28;01mfor\u001b[39;00m i \u001b[38;5;129;01min\u001b[39;00m \u001b[38;5;28mrange\u001b[39m(\u001b[38;5;241m10\u001b[39m)]\n\u001b[0;32m      2\u001b[0m current_rate \u001b[38;5;241m=\u001b[39m \u001b[38;5;28mfloat\u001b[39m(rate_three)\n\u001b[0;32m      3\u001b[0m \u001b[38;5;28mprint\u001b[39m(random_amounts)\n",
      "\u001b[1;31mNameError\u001b[0m: name 'random' is not defined"
     ]
    }
   ],
   "source": [
    "random_amounts = [random.randint(20, 2000) for i in range(10)]\n",
    "current_rate = float(rate_three)\n",
    "print(random_amounts)\n",
    "print(current_rate)"
   ]
  },
  {
   "cell_type": "code",
   "execution_count": null,
   "id": "d42164f2",
   "metadata": {},
   "outputs": [],
   "source": [
    "def currency_converter(amount, rate):\n",
    "    return amount * rate"
   ]
  },
  {
   "cell_type": "code",
   "execution_count": null,
   "id": "6d16c3b0",
   "metadata": {},
   "outputs": [],
   "source": [
    "# Using a for loop\n"
   ]
  },
  {
   "cell_type": "markdown",
   "id": "a7f43ece",
   "metadata": {},
   "source": [
    "---"
   ]
  },
  {
   "cell_type": "markdown",
   "id": "0b4f5cff",
   "metadata": {},
   "source": [
    "## [Mapping](https://docs.python.org/3.9/library/functions.html#map)\n",
    "\n",
    "Consists of applying a transformation function to an iterable to produce a new iterable. Items in the new iterable are produced by calling the transformation function on each item in the original iterable.\n",
    "\n",
    "- The goal of using the `map()` function is to apply a function to a sequence (i.e.: it allows you to process and transform all the items in an iterable without using an explicit for loop)"
   ]
  },
  {
   "cell_type": "code",
   "execution_count": null,
   "id": "d7fb73df",
   "metadata": {
    "scrolled": true
   },
   "outputs": [],
   "source": [
    "%%time\n",
    "\n",
    "# Now we map the function to the list\n",
    "\n",
    "map_object = map('FUNCTION GOES HERE!!!', random_amounts)\n",
    "print(map_object)"
   ]
  },
  {
   "cell_type": "markdown",
   "id": "14f35025",
   "metadata": {},
   "source": [
    "#### `map()` returns a _map object_, which is an iterator that yields items on demand (a.k.a.: generators). Python iterators are known to be quite efficient in terms of memory consumption. This is the reason why map() now returns an iterator instead of a list."
   ]
  },
  {
   "cell_type": "code",
   "execution_count": null,
   "id": "cb37cfc7",
   "metadata": {
    "scrolled": true
   },
   "outputs": [],
   "source": [
    "%%time\n",
    "\n",
    "result_list = list(map_object)\n",
    "\n",
    "print(len(result_list))\n",
    "print(type(result_list))\n",
    "print(result_list)"
   ]
  },
  {
   "cell_type": "code",
   "execution_count": null,
   "id": "f5fdbc2c",
   "metadata": {},
   "outputs": [],
   "source": [
    "string = 'Ironhack'\n",
    "list(map(lambda x : x.upper(), string))"
   ]
  },
  {
   "cell_type": "markdown",
   "id": "d9a3e801",
   "metadata": {},
   "source": [
    "---"
   ]
  },
  {
   "cell_type": "markdown",
   "id": "9c4eb621",
   "metadata": {},
   "source": [
    "## [Filtering](https://docs.python.org/3.9/library/functions.html#filter)\n",
    "\n",
    "Filtering consists of applying a predicate or Boolean-valued function to an iterable to generate a new iterable. Items in the new iterable are produced by filtering out any items in the original iterable that make the predicate function return false.\n",
    "\n",
    "- The goal of the `filter()` function is to use the function we pass to it to remove elements from our sequence."
   ]
  },
  {
   "cell_type": "code",
   "execution_count": null,
   "id": "9dc13cb6",
   "metadata": {},
   "outputs": [],
   "source": [
    "random_amounts = [random.randint(20, 2000) for i in range(10)]\n",
    "#random_amounts"
   ]
  },
  {
   "cell_type": "code",
   "execution_count": null,
   "id": "4e71a444",
   "metadata": {},
   "outputs": [],
   "source": [
    "%%time\n",
    "\n",
    "# Now we filter the list\n",
    "\n",
    "filter_object = filter(lambda amount : amount > 100, random_amounts)\n",
    "print(filter_object)"
   ]
  },
  {
   "cell_type": "code",
   "execution_count": null,
   "id": "c2b2e031",
   "metadata": {},
   "outputs": [],
   "source": [
    "%%time\n",
    "\n",
    "filtered_list = list(filter_object)\n",
    "\n",
    "print(len(filtered_list))\n",
    "print(type(filtered_list))\n",
    "print(filtered_list)"
   ]
  },
  {
   "cell_type": "markdown",
   "id": "504fe4ed",
   "metadata": {},
   "source": [
    "---"
   ]
  },
  {
   "cell_type": "markdown",
   "id": "6597bd3c",
   "metadata": {},
   "source": [
    "## [Reducing](https://docs.python.org/3.9/library/functools.html#module-functools#reduce)\n",
    "\n",
    "Reducing consists of applying a reduction function to an iterable to produce a single cumulative value.\n",
    "\n",
    "- The goal of the `reduce()` function is to aggregate all elements in a sequence."
   ]
  },
  {
   "cell_type": "code",
   "execution_count": null,
   "id": "3874bdd6",
   "metadata": {},
   "outputs": [],
   "source": [
    "random_amounts = [random.randint(20, 2000) for i in range(10)]\n",
    "#random_amounts"
   ]
  },
  {
   "cell_type": "code",
   "execution_count": 1,
   "id": "94d43faa",
   "metadata": {},
   "outputs": [
    {
     "ename": "NameError",
     "evalue": "name 'reduce' is not defined",
     "output_type": "error",
     "traceback": [
      "\u001b[1;31m---------------------------------------------------------------------------\u001b[0m",
      "\u001b[1;31mNameError\u001b[0m                                 Traceback (most recent call last)",
      "File \u001b[1;32m<timed exec>:1\u001b[0m, in \u001b[0;36m<module>\u001b[1;34m\u001b[0m\n",
      "\u001b[1;31mNameError\u001b[0m: name 'reduce' is not defined"
     ]
    }
   ],
   "source": [
    "%%time\n",
    "\n",
    "reduce_object = reduce(lambda x, y : x + y, random_amounts)\n",
    "\n",
    "print(type(reduce_object))\n",
    "print(reduce_object)"
   ]
  },
  {
   "cell_type": "code",
   "execution_count": 2,
   "id": "06524cf6",
   "metadata": {},
   "outputs": [
    {
     "name": "stderr",
     "output_type": "stream",
     "text": [
      "UsageError: Line magic function `%%time` not found.\n"
     ]
    }
   ],
   "source": [
    "# More abstraction...\n",
    "\n",
    "%%time\n",
    "\n",
    "suma = sum(random_amounts)\n",
    "\n",
    "print(type(suma))\n",
    "print(suma)"
   ]
  },
  {
   "cell_type": "markdown",
   "id": "c0449ba1",
   "metadata": {},
   "source": [
    "MapReduce is a programming model and an associated implementation for processing and generating big data sets with a parallel, distributed algorithm on a cluster."
   ]
  }
 ],
 "metadata": {
  "kernelspec": {
   "display_name": "Python [conda env:jp_env] *",
   "language": "python",
   "name": "conda-env-jp_env-py"
  },
  "language_info": {
   "codemirror_mode": {
    "name": "ipython",
    "version": 3
   },
   "file_extension": ".py",
   "mimetype": "text/x-python",
   "name": "python",
   "nbconvert_exporter": "python",
   "pygments_lexer": "ipython3",
   "version": "3.9.12"
  }
 },
 "nbformat": 4,
 "nbformat_minor": 5
}
