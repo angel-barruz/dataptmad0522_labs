{
 "cells": [
  {
   "cell_type": "code",
   "execution_count": 1,
   "id": "70827f40",
   "metadata": {},
   "outputs": [
    {
     "name": "stdout",
     "output_type": "stream",
     "text": [
      "What is the maximal length of the triangle side? Enter a number: 55\n",
      "The longest side possible is 53\n"
     ]
    }
   ],
   "source": [
    "\n",
    "def my_function(X):\n",
    "    solutions = []\n",
    "    for x in range(5, X):\n",
    "        for y in range(4, X):\n",
    "            for z in range(3, X):\n",
    "                if (x*x==y*y+z*z):\n",
    "                    solutions.append([x, y, z])\n",
    "    m = 0\n",
    "    for solution in solutions:\n",
    "        if m < max(solution):\n",
    "            m = max(solution)\n",
    "    return m\n",
    "\n",
    "X = input(\"What is the maximal length of the triangle side? Enter a number: \")\n",
    "\n",
    "print(\"The longest side possible is \" + str(my_function(int(X))))\n"
   ]
  },
  {
   "cell_type": "code",
   "execution_count": 4,
   "id": "5ffc81f8",
   "metadata": {},
   "outputs": [
    {
     "name": "stdout",
     "output_type": "stream",
     "text": [
      "What is the maximal length of the triangle side? Enter a number: 55\n",
      "The longest side possible is 53\n"
     ]
    }
   ],
   "source": [
    "\n",
    "def my_function(X):\n",
    "    solutions = [(x,y,z)\n",
    "                for x in range (5,X)\n",
    "                for y in range (4,X)\n",
    "                for z in range (3,X)\n",
    "                if (x*x==y*y+z*z)]              \n",
    "    m = 0\n",
    "    for solution in solutions:\n",
    "        if m < max(solution):\n",
    "            m = max(solution)\n",
    "    return m\n",
    "\n",
    "X = input(\"What is the maximal length of the triangle side? Enter a number: \")\n",
    "print(\"The longest side possible is \" + str(my_function(int(X))))\n"
   ]
  },
  {
   "cell_type": "code",
   "execution_count": null,
   "id": "63daddd9",
   "metadata": {},
   "outputs": [],
   "source": []
  },
  {
   "cell_type": "code",
   "execution_count": null,
   "id": "ceafc936",
   "metadata": {},
   "outputs": [],
   "source": []
  },
  {
   "cell_type": "code",
   "execution_count": null,
   "id": "392ecb6f",
   "metadata": {},
   "outputs": [],
   "source": []
  }
 ],
 "metadata": {
  "kernelspec": {
   "display_name": "Python [conda env:m1_ih]",
   "language": "python",
   "name": "conda-env-m1_ih-py"
  },
  "language_info": {
   "codemirror_mode": {
    "name": "ipython",
    "version": 3
   },
   "file_extension": ".py",
   "mimetype": "text/x-python",
   "name": "python",
   "nbconvert_exporter": "python",
   "pygments_lexer": "ipython3",
   "version": "3.9.12"
  }
 },
 "nbformat": 4,
 "nbformat_minor": 5
}
