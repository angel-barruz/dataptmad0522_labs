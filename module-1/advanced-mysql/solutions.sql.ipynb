{
 "cells": [
  {
   "cell_type": "code",
   "execution_count": 3,
   "id": "dd62a55d",
   "metadata": {},
   "outputs": [],
   "source": [
    "import sqlalchemy\n",
    "from sqlalchemy import create_engine\n",
    "from sqlalchemy import inspect\n",
    "import pandas as pd\n",
    "from sqlalchemy.sql import functions"
   ]
  },
  {
   "cell_type": "markdown",
   "id": "16d179c2",
   "metadata": {},
   "source": [
    "# Challenge 1\n"
   ]
  },
  {
   "cell_type": "code",
   "execution_count": 4,
   "id": "03af71a4",
   "metadata": {},
   "outputs": [
    {
     "data": {
      "text/plain": [
       "'sqlite:///datasets/publications.db'"
      ]
     },
     "execution_count": 4,
     "metadata": {},
     "output_type": "execute_result"
    }
   ],
   "source": [
    "connection_string = 'sqlite:///datasets/publications.db'\n",
    "connection_string\n"
   ]
  },
  {
   "cell_type": "code",
   "execution_count": 5,
   "id": "fa5a8a79",
   "metadata": {},
   "outputs": [
    {
     "data": {
      "text/plain": [
       "Engine(sqlite:///datasets/publications.db)"
      ]
     },
     "execution_count": 5,
     "metadata": {},
     "output_type": "execute_result"
    }
   ],
   "source": [
    "engine=create_engine(connection_string)\n",
    "engine"
   ]
  },
  {
   "cell_type": "code",
   "execution_count": 6,
   "id": "658e68d0",
   "metadata": {},
   "outputs": [
    {
     "data": {
      "text/plain": [
       "['authors',\n",
       " 'discounts',\n",
       " 'employee',\n",
       " 'jobs',\n",
       " 'pub_info',\n",
       " 'publishers',\n",
       " 'roysched',\n",
       " 'sales',\n",
       " 'stores',\n",
       " 'titleauthor',\n",
       " 'titles']"
      ]
     },
     "execution_count": 6,
     "metadata": {},
     "output_type": "execute_result"
    }
   ],
   "source": [
    "inspector = inspect(engine)\n",
    "inspector.get_table_names()"
   ]
  },
  {
   "cell_type": "markdown",
   "id": "54c64988",
   "metadata": {},
   "source": [
    "# Challenge 1"
   ]
  },
  {
   "cell_type": "code",
   "execution_count": 7,
   "id": "ef093994",
   "metadata": {},
   "outputs": [
    {
     "data": {
      "text/html": [
       "<div>\n",
       "<style scoped>\n",
       "    .dataframe tbody tr th:only-of-type {\n",
       "        vertical-align: middle;\n",
       "    }\n",
       "\n",
       "    .dataframe tbody tr th {\n",
       "        vertical-align: top;\n",
       "    }\n",
       "\n",
       "    .dataframe thead th {\n",
       "        text-align: right;\n",
       "    }\n",
       "</style>\n",
       "<table border=\"1\" class=\"dataframe\">\n",
       "  <thead>\n",
       "    <tr style=\"text-align: right;\">\n",
       "      <th></th>\n",
       "      <th>au_id</th>\n",
       "      <th>au_lname</th>\n",
       "      <th>au_fname</th>\n",
       "      <th>phone</th>\n",
       "      <th>address</th>\n",
       "      <th>city</th>\n",
       "      <th>state</th>\n",
       "      <th>zip</th>\n",
       "      <th>contract</th>\n",
       "    </tr>\n",
       "  </thead>\n",
       "  <tbody>\n",
       "    <tr>\n",
       "      <th>0</th>\n",
       "      <td>172-32-1176</td>\n",
       "      <td>White</td>\n",
       "      <td>Johnson</td>\n",
       "      <td>408 496-7223</td>\n",
       "      <td>10932 Bigge Rd.</td>\n",
       "      <td>Menlo Park</td>\n",
       "      <td>CA</td>\n",
       "      <td>94025</td>\n",
       "      <td>1</td>\n",
       "    </tr>\n",
       "  </tbody>\n",
       "</table>\n",
       "</div>"
      ],
      "text/plain": [
       "         au_id au_lname au_fname         phone          address        city  \\\n",
       "0  172-32-1176    White  Johnson  408 496-7223  10932 Bigge Rd.  Menlo Park   \n",
       "\n",
       "  state    zip  contract  \n",
       "0    CA  94025         1  "
      ]
     },
     "execution_count": 7,
     "metadata": {},
     "output_type": "execute_result"
    }
   ],
   "source": [
    "Authors=pd.read_sql_query('SELECT * FROM authors', engine)\n",
    "Authors.head(1)\n"
   ]
  },
  {
   "cell_type": "code",
   "execution_count": 8,
   "id": "da31cf15",
   "metadata": {},
   "outputs": [
    {
     "data": {
      "text/html": [
       "<div>\n",
       "<style scoped>\n",
       "    .dataframe tbody tr th:only-of-type {\n",
       "        vertical-align: middle;\n",
       "    }\n",
       "\n",
       "    .dataframe tbody tr th {\n",
       "        vertical-align: top;\n",
       "    }\n",
       "\n",
       "    .dataframe thead th {\n",
       "        text-align: right;\n",
       "    }\n",
       "</style>\n",
       "<table border=\"1\" class=\"dataframe\">\n",
       "  <thead>\n",
       "    <tr style=\"text-align: right;\">\n",
       "      <th></th>\n",
       "      <th>discounttype</th>\n",
       "      <th>stor_id</th>\n",
       "      <th>lowqty</th>\n",
       "      <th>highqty</th>\n",
       "      <th>discount</th>\n",
       "    </tr>\n",
       "  </thead>\n",
       "  <tbody>\n",
       "    <tr>\n",
       "      <th>0</th>\n",
       "      <td>Initial Customer</td>\n",
       "      <td>None</td>\n",
       "      <td>NaN</td>\n",
       "      <td>NaN</td>\n",
       "      <td>10.5</td>\n",
       "    </tr>\n",
       "  </tbody>\n",
       "</table>\n",
       "</div>"
      ],
      "text/plain": [
       "       discounttype stor_id  lowqty  highqty  discount\n",
       "0  Initial Customer    None     NaN      NaN      10.5"
      ]
     },
     "execution_count": 8,
     "metadata": {},
     "output_type": "execute_result"
    }
   ],
   "source": [
    "Discounts = pd.read_sql_query('SELECT * FROM discounts',engine)\n",
    "Discounts.head(1)\n"
   ]
  },
  {
   "cell_type": "code",
   "execution_count": 9,
   "id": "13a2f288",
   "metadata": {},
   "outputs": [
    {
     "data": {
      "text/html": [
       "<div>\n",
       "<style scoped>\n",
       "    .dataframe tbody tr th:only-of-type {\n",
       "        vertical-align: middle;\n",
       "    }\n",
       "\n",
       "    .dataframe tbody tr th {\n",
       "        vertical-align: top;\n",
       "    }\n",
       "\n",
       "    .dataframe thead th {\n",
       "        text-align: right;\n",
       "    }\n",
       "</style>\n",
       "<table border=\"1\" class=\"dataframe\">\n",
       "  <thead>\n",
       "    <tr style=\"text-align: right;\">\n",
       "      <th></th>\n",
       "      <th>emp_id</th>\n",
       "      <th>fname</th>\n",
       "      <th>minit</th>\n",
       "      <th>lname</th>\n",
       "      <th>job_id</th>\n",
       "      <th>job_lvl</th>\n",
       "      <th>pub_id</th>\n",
       "      <th>hire_date</th>\n",
       "    </tr>\n",
       "  </thead>\n",
       "  <tbody>\n",
       "    <tr>\n",
       "      <th>0</th>\n",
       "      <td>A-C71970F</td>\n",
       "      <td>Aria</td>\n",
       "      <td></td>\n",
       "      <td>Cruz</td>\n",
       "      <td>10</td>\n",
       "      <td>87</td>\n",
       "      <td>1389</td>\n",
       "      <td>1991-10-26 00:00:00</td>\n",
       "    </tr>\n",
       "  </tbody>\n",
       "</table>\n",
       "</div>"
      ],
      "text/plain": [
       "      emp_id fname minit lname  job_id  job_lvl pub_id            hire_date\n",
       "0  A-C71970F  Aria        Cruz      10       87   1389  1991-10-26 00:00:00"
      ]
     },
     "execution_count": 9,
     "metadata": {},
     "output_type": "execute_result"
    }
   ],
   "source": [
    "Employee = pd.read_sql_query('SELECT * FROM employee', engine)\n",
    "Employee.head(1)"
   ]
  },
  {
   "cell_type": "code",
   "execution_count": 10,
   "id": "4a885770",
   "metadata": {},
   "outputs": [
    {
     "data": {
      "text/html": [
       "<div>\n",
       "<style scoped>\n",
       "    .dataframe tbody tr th:only-of-type {\n",
       "        vertical-align: middle;\n",
       "    }\n",
       "\n",
       "    .dataframe tbody tr th {\n",
       "        vertical-align: top;\n",
       "    }\n",
       "\n",
       "    .dataframe thead th {\n",
       "        text-align: right;\n",
       "    }\n",
       "</style>\n",
       "<table border=\"1\" class=\"dataframe\">\n",
       "  <thead>\n",
       "    <tr style=\"text-align: right;\">\n",
       "      <th></th>\n",
       "      <th>job_id</th>\n",
       "      <th>job_desc</th>\n",
       "      <th>min_lvl</th>\n",
       "      <th>max_lvl</th>\n",
       "    </tr>\n",
       "  </thead>\n",
       "  <tbody>\n",
       "    <tr>\n",
       "      <th>0</th>\n",
       "      <td>1</td>\n",
       "      <td>New Hire - Job not specified</td>\n",
       "      <td>10</td>\n",
       "      <td>10</td>\n",
       "    </tr>\n",
       "  </tbody>\n",
       "</table>\n",
       "</div>"
      ],
      "text/plain": [
       "   job_id                      job_desc  min_lvl  max_lvl\n",
       "0       1  New Hire - Job not specified       10       10"
      ]
     },
     "execution_count": 10,
     "metadata": {},
     "output_type": "execute_result"
    }
   ],
   "source": [
    "jobs = pd.read_sql_query('SELECT * FROM jobs', engine)\n",
    "jobs.head(1)"
   ]
  },
  {
   "cell_type": "code",
   "execution_count": 11,
   "id": "05b30832",
   "metadata": {},
   "outputs": [
    {
     "data": {
      "text/html": [
       "<div>\n",
       "<style scoped>\n",
       "    .dataframe tbody tr th:only-of-type {\n",
       "        vertical-align: middle;\n",
       "    }\n",
       "\n",
       "    .dataframe tbody tr th {\n",
       "        vertical-align: top;\n",
       "    }\n",
       "\n",
       "    .dataframe thead th {\n",
       "        text-align: right;\n",
       "    }\n",
       "</style>\n",
       "<table border=\"1\" class=\"dataframe\">\n",
       "  <thead>\n",
       "    <tr style=\"text-align: right;\">\n",
       "      <th></th>\n",
       "      <th>pub_id</th>\n",
       "      <th>logo</th>\n",
       "      <th>pr_info</th>\n",
       "    </tr>\n",
       "  </thead>\n",
       "  <tbody>\n",
       "    <tr>\n",
       "      <th>0</th>\n",
       "      <td>0736</td>\n",
       "      <td>b\"GIF89a\\xd3\\x00\\x1f\\x00\\xb3\\x0f\\x00\\x00\\x00\\x...</td>\n",
       "      <td>This is sample text data for New Moon Books, p...</td>\n",
       "    </tr>\n",
       "  </tbody>\n",
       "</table>\n",
       "</div>"
      ],
      "text/plain": [
       "  pub_id                                               logo  \\\n",
       "0   0736  b\"GIF89a\\xd3\\x00\\x1f\\x00\\xb3\\x0f\\x00\\x00\\x00\\x...   \n",
       "\n",
       "                                             pr_info  \n",
       "0  This is sample text data for New Moon Books, p...  "
      ]
     },
     "execution_count": 11,
     "metadata": {},
     "output_type": "execute_result"
    }
   ],
   "source": [
    "pub_info = pd.read_sql_query('SELECT * FROM pub_info', engine)\n",
    "pub_info.head(1)"
   ]
  },
  {
   "cell_type": "code",
   "execution_count": 12,
   "id": "f7fd3f1b",
   "metadata": {},
   "outputs": [
    {
     "data": {
      "text/html": [
       "<div>\n",
       "<style scoped>\n",
       "    .dataframe tbody tr th:only-of-type {\n",
       "        vertical-align: middle;\n",
       "    }\n",
       "\n",
       "    .dataframe tbody tr th {\n",
       "        vertical-align: top;\n",
       "    }\n",
       "\n",
       "    .dataframe thead th {\n",
       "        text-align: right;\n",
       "    }\n",
       "</style>\n",
       "<table border=\"1\" class=\"dataframe\">\n",
       "  <thead>\n",
       "    <tr style=\"text-align: right;\">\n",
       "      <th></th>\n",
       "      <th>pub_id</th>\n",
       "      <th>pub_name</th>\n",
       "      <th>city</th>\n",
       "      <th>state</th>\n",
       "      <th>country</th>\n",
       "    </tr>\n",
       "  </thead>\n",
       "  <tbody>\n",
       "    <tr>\n",
       "      <th>0</th>\n",
       "      <td>0736</td>\n",
       "      <td>New Moon Books</td>\n",
       "      <td>Boston</td>\n",
       "      <td>MA</td>\n",
       "      <td>USA</td>\n",
       "    </tr>\n",
       "  </tbody>\n",
       "</table>\n",
       "</div>"
      ],
      "text/plain": [
       "  pub_id        pub_name    city state country\n",
       "0   0736  New Moon Books  Boston    MA     USA"
      ]
     },
     "execution_count": 12,
     "metadata": {},
     "output_type": "execute_result"
    }
   ],
   "source": [
    "publishers= pd.read_sql_query('SELECT * FROM publishers', engine)\n",
    "publishers.head(1)"
   ]
  },
  {
   "cell_type": "code",
   "execution_count": 13,
   "id": "dc95300d",
   "metadata": {},
   "outputs": [
    {
     "data": {
      "text/html": [
       "<div>\n",
       "<style scoped>\n",
       "    .dataframe tbody tr th:only-of-type {\n",
       "        vertical-align: middle;\n",
       "    }\n",
       "\n",
       "    .dataframe tbody tr th {\n",
       "        vertical-align: top;\n",
       "    }\n",
       "\n",
       "    .dataframe thead th {\n",
       "        text-align: right;\n",
       "    }\n",
       "</style>\n",
       "<table border=\"1\" class=\"dataframe\">\n",
       "  <thead>\n",
       "    <tr style=\"text-align: right;\">\n",
       "      <th></th>\n",
       "      <th>title_id</th>\n",
       "      <th>lorange</th>\n",
       "      <th>hirange</th>\n",
       "      <th>royalty</th>\n",
       "    </tr>\n",
       "  </thead>\n",
       "  <tbody>\n",
       "    <tr>\n",
       "      <th>0</th>\n",
       "      <td>BU1032</td>\n",
       "      <td>0</td>\n",
       "      <td>5000</td>\n",
       "      <td>10</td>\n",
       "    </tr>\n",
       "  </tbody>\n",
       "</table>\n",
       "</div>"
      ],
      "text/plain": [
       "  title_id  lorange  hirange  royalty\n",
       "0   BU1032        0     5000       10"
      ]
     },
     "execution_count": 13,
     "metadata": {},
     "output_type": "execute_result"
    }
   ],
   "source": [
    "roysched= pd.read_sql_query('SELECT * FROM roysched', engine)\n",
    "roysched.head(1)"
   ]
  },
  {
   "cell_type": "code",
   "execution_count": 14,
   "id": "539e7b19",
   "metadata": {},
   "outputs": [
    {
     "data": {
      "text/html": [
       "<div>\n",
       "<style scoped>\n",
       "    .dataframe tbody tr th:only-of-type {\n",
       "        vertical-align: middle;\n",
       "    }\n",
       "\n",
       "    .dataframe tbody tr th {\n",
       "        vertical-align: top;\n",
       "    }\n",
       "\n",
       "    .dataframe thead th {\n",
       "        text-align: right;\n",
       "    }\n",
       "</style>\n",
       "<table border=\"1\" class=\"dataframe\">\n",
       "  <thead>\n",
       "    <tr style=\"text-align: right;\">\n",
       "      <th></th>\n",
       "      <th>stor_id</th>\n",
       "      <th>ord_num</th>\n",
       "      <th>ord_date</th>\n",
       "      <th>qty</th>\n",
       "      <th>payterms</th>\n",
       "      <th>title_id</th>\n",
       "    </tr>\n",
       "  </thead>\n",
       "  <tbody>\n",
       "    <tr>\n",
       "      <th>0</th>\n",
       "      <td>6380</td>\n",
       "      <td>6871</td>\n",
       "      <td>1994-09-14 00:00:00</td>\n",
       "      <td>5</td>\n",
       "      <td>Net 60</td>\n",
       "      <td>BU1032</td>\n",
       "    </tr>\n",
       "  </tbody>\n",
       "</table>\n",
       "</div>"
      ],
      "text/plain": [
       "  stor_id ord_num             ord_date  qty payterms title_id\n",
       "0    6380    6871  1994-09-14 00:00:00    5   Net 60   BU1032"
      ]
     },
     "execution_count": 14,
     "metadata": {},
     "output_type": "execute_result"
    }
   ],
   "source": [
    "sales=pd.read_sql_query('SELECT * FROM sales', engine)\n",
    "sales.head(1)\n"
   ]
  },
  {
   "cell_type": "code",
   "execution_count": 15,
   "id": "0db50cfb",
   "metadata": {},
   "outputs": [
    {
     "data": {
      "text/html": [
       "<div>\n",
       "<style scoped>\n",
       "    .dataframe tbody tr th:only-of-type {\n",
       "        vertical-align: middle;\n",
       "    }\n",
       "\n",
       "    .dataframe tbody tr th {\n",
       "        vertical-align: top;\n",
       "    }\n",
       "\n",
       "    .dataframe thead th {\n",
       "        text-align: right;\n",
       "    }\n",
       "</style>\n",
       "<table border=\"1\" class=\"dataframe\">\n",
       "  <thead>\n",
       "    <tr style=\"text-align: right;\">\n",
       "      <th></th>\n",
       "      <th>stor_id</th>\n",
       "      <th>stor_name</th>\n",
       "      <th>stor_address</th>\n",
       "      <th>city</th>\n",
       "      <th>state</th>\n",
       "      <th>zip</th>\n",
       "    </tr>\n",
       "  </thead>\n",
       "  <tbody>\n",
       "    <tr>\n",
       "      <th>0</th>\n",
       "      <td>6380</td>\n",
       "      <td>Eric the Read Books</td>\n",
       "      <td>788 Catamaugus Ave.</td>\n",
       "      <td>Seattle</td>\n",
       "      <td>WA</td>\n",
       "      <td>98056</td>\n",
       "    </tr>\n",
       "  </tbody>\n",
       "</table>\n",
       "</div>"
      ],
      "text/plain": [
       "  stor_id            stor_name         stor_address     city state    zip\n",
       "0    6380  Eric the Read Books  788 Catamaugus Ave.  Seattle    WA  98056"
      ]
     },
     "execution_count": 15,
     "metadata": {},
     "output_type": "execute_result"
    }
   ],
   "source": [
    "stores=pd.read_sql_query('SELECT * FROM stores', engine)\n",
    "stores.head(1)"
   ]
  },
  {
   "cell_type": "code",
   "execution_count": 16,
   "id": "27bb699d",
   "metadata": {},
   "outputs": [
    {
     "data": {
      "text/html": [
       "<div>\n",
       "<style scoped>\n",
       "    .dataframe tbody tr th:only-of-type {\n",
       "        vertical-align: middle;\n",
       "    }\n",
       "\n",
       "    .dataframe tbody tr th {\n",
       "        vertical-align: top;\n",
       "    }\n",
       "\n",
       "    .dataframe thead th {\n",
       "        text-align: right;\n",
       "    }\n",
       "</style>\n",
       "<table border=\"1\" class=\"dataframe\">\n",
       "  <thead>\n",
       "    <tr style=\"text-align: right;\">\n",
       "      <th></th>\n",
       "      <th>au_id</th>\n",
       "      <th>title_id</th>\n",
       "      <th>au_ord</th>\n",
       "      <th>royaltyper</th>\n",
       "    </tr>\n",
       "  </thead>\n",
       "  <tbody>\n",
       "    <tr>\n",
       "      <th>0</th>\n",
       "      <td>172-32-1176</td>\n",
       "      <td>PS3333</td>\n",
       "      <td>1</td>\n",
       "      <td>100</td>\n",
       "    </tr>\n",
       "  </tbody>\n",
       "</table>\n",
       "</div>"
      ],
      "text/plain": [
       "         au_id title_id  au_ord  royaltyper\n",
       "0  172-32-1176   PS3333       1         100"
      ]
     },
     "execution_count": 16,
     "metadata": {},
     "output_type": "execute_result"
    }
   ],
   "source": [
    "titleauthor=pd.read_sql_query('SELECT * FROM titleauthor', engine)\n",
    "titleauthor.head(1)"
   ]
  },
  {
   "cell_type": "code",
   "execution_count": 17,
   "id": "e311304f",
   "metadata": {},
   "outputs": [
    {
     "data": {
      "text/html": [
       "<div>\n",
       "<style scoped>\n",
       "    .dataframe tbody tr th:only-of-type {\n",
       "        vertical-align: middle;\n",
       "    }\n",
       "\n",
       "    .dataframe tbody tr th {\n",
       "        vertical-align: top;\n",
       "    }\n",
       "\n",
       "    .dataframe thead th {\n",
       "        text-align: right;\n",
       "    }\n",
       "</style>\n",
       "<table border=\"1\" class=\"dataframe\">\n",
       "  <thead>\n",
       "    <tr style=\"text-align: right;\">\n",
       "      <th></th>\n",
       "      <th>title_id</th>\n",
       "      <th>title</th>\n",
       "      <th>type</th>\n",
       "      <th>pub_id</th>\n",
       "      <th>price</th>\n",
       "      <th>advance</th>\n",
       "      <th>royalty</th>\n",
       "      <th>ytd_sales</th>\n",
       "      <th>notes</th>\n",
       "      <th>pubdate</th>\n",
       "    </tr>\n",
       "  </thead>\n",
       "  <tbody>\n",
       "    <tr>\n",
       "      <th>0</th>\n",
       "      <td>BU1032</td>\n",
       "      <td>The Busy Executive's Database Guide</td>\n",
       "      <td>business</td>\n",
       "      <td>1389</td>\n",
       "      <td>19.99</td>\n",
       "      <td>5000.0</td>\n",
       "      <td>10.0</td>\n",
       "      <td>4095.0</td>\n",
       "      <td>An overview of available database systems with...</td>\n",
       "      <td>1991-06-12 00:00:00</td>\n",
       "    </tr>\n",
       "  </tbody>\n",
       "</table>\n",
       "</div>"
      ],
      "text/plain": [
       "  title_id                                title      type pub_id  price  \\\n",
       "0   BU1032  The Busy Executive's Database Guide  business   1389  19.99   \n",
       "\n",
       "   advance  royalty  ytd_sales  \\\n",
       "0   5000.0     10.0     4095.0   \n",
       "\n",
       "                                               notes              pubdate  \n",
       "0  An overview of available database systems with...  1991-06-12 00:00:00  "
      ]
     },
     "execution_count": 17,
     "metadata": {},
     "output_type": "execute_result"
    }
   ],
   "source": [
    "titles=pd.read_sql_query('SELECT * FROM titles', engine)\n",
    "titles.head(1)"
   ]
  },
  {
   "cell_type": "code",
   "execution_count": 18,
   "id": "e1d5d914",
   "metadata": {},
   "outputs": [],
   "source": [
    "# Step 1\n",
    "\n",
    "query_1 ='''\n",
    "SELECT authors.au_id AS 'Authors',\n",
    "titles.title_id AS 'Titles',\n",
    "titles.advance * titleauthor.royaltyper / 100 AS 'Advance',\n",
    "titles.price * sales.qty * titles.royalty / 100 * titleauthor.royaltyper / 100 AS 'Royalty'\n",
    "\n",
    "FROM authors\n",
    "INNER JOIN titleauthor ON authors.au_id = titleauthor.au_id\n",
    "INNER JOIN titles ON titleauthor.title_id = titles.title_id \n",
    "INNER JOIN sales ON titleauthor.title_id = sales.title_id\n",
    "'''"
   ]
  },
  {
   "cell_type": "code",
   "execution_count": 19,
   "id": "982a5950",
   "metadata": {},
   "outputs": [
    {
     "data": {
      "text/html": [
       "<div>\n",
       "<style scoped>\n",
       "    .dataframe tbody tr th:only-of-type {\n",
       "        vertical-align: middle;\n",
       "    }\n",
       "\n",
       "    .dataframe tbody tr th {\n",
       "        vertical-align: top;\n",
       "    }\n",
       "\n",
       "    .dataframe thead th {\n",
       "        text-align: right;\n",
       "    }\n",
       "</style>\n",
       "<table border=\"1\" class=\"dataframe\">\n",
       "  <thead>\n",
       "    <tr style=\"text-align: right;\">\n",
       "      <th></th>\n",
       "      <th>Authors</th>\n",
       "      <th>Titles</th>\n",
       "      <th>Advance</th>\n",
       "      <th>Royalty</th>\n",
       "    </tr>\n",
       "  </thead>\n",
       "  <tbody>\n",
       "    <tr>\n",
       "      <th>0</th>\n",
       "      <td>172-32-1176</td>\n",
       "      <td>PS3333</td>\n",
       "      <td>2000</td>\n",
       "      <td>29.985</td>\n",
       "    </tr>\n",
       "    <tr>\n",
       "      <th>1</th>\n",
       "      <td>213-46-8915</td>\n",
       "      <td>BU1032</td>\n",
       "      <td>2000</td>\n",
       "      <td>3.998</td>\n",
       "    </tr>\n",
       "    <tr>\n",
       "      <th>2</th>\n",
       "      <td>213-46-8915</td>\n",
       "      <td>BU1032</td>\n",
       "      <td>2000</td>\n",
       "      <td>7.996</td>\n",
       "    </tr>\n",
       "    <tr>\n",
       "      <th>3</th>\n",
       "      <td>213-46-8915</td>\n",
       "      <td>BU2075</td>\n",
       "      <td>10125</td>\n",
       "      <td>25.116</td>\n",
       "    </tr>\n",
       "    <tr>\n",
       "      <th>4</th>\n",
       "      <td>238-95-7766</td>\n",
       "      <td>PC1035</td>\n",
       "      <td>7000</td>\n",
       "      <td>110.160</td>\n",
       "    </tr>\n",
       "  </tbody>\n",
       "</table>\n",
       "</div>"
      ],
      "text/plain": [
       "       Authors  Titles  Advance  Royalty\n",
       "0  172-32-1176  PS3333     2000   29.985\n",
       "1  213-46-8915  BU1032     2000    3.998\n",
       "2  213-46-8915  BU1032     2000    7.996\n",
       "3  213-46-8915  BU2075    10125   25.116\n",
       "4  238-95-7766  PC1035     7000  110.160"
      ]
     },
     "execution_count": 19,
     "metadata": {},
     "output_type": "execute_result"
    }
   ],
   "source": [
    "df_ch1 = pd.read_sql_query(query_1, engine)\n",
    "df_ch1.head(5)"
   ]
  },
  {
   "cell_type": "code",
   "execution_count": 20,
   "id": "9ec8e951",
   "metadata": {},
   "outputs": [],
   "source": [
    "# Step 2\n",
    "\n"
   ]
  },
  {
   "cell_type": "code",
   "execution_count": 29,
   "id": "04e7a140",
   "metadata": {},
   "outputs": [],
   "source": [
    "query_2 = '''\n",
    "SELECT authors.au_id AS 'Authors',\n",
    "titles.title_id AS 'Titles',\n",
    "titles.advance * titleauthor.royaltyper / 100 AS 'Advance',\n",
    "SUM (titles.price * sales.qty * titles.royalty / 100 * titleauthor.royaltyper / 100) AS 'Royalty'\n",
    "\n",
    "FROM authors\n",
    "INNER JOIN titleauthor ON authors.au_id = titleauthor.au_id\n",
    "INNER JOIN titles ON titleauthor.title_id = titles.title_id \n",
    "LEFT JOIN sales ON titleauthor.title_id = sales.title_id\n",
    "\n",
    "GROUP BY authors.au_id, titles.title_id \n",
    "'''"
   ]
  },
  {
   "cell_type": "code",
   "execution_count": 30,
   "id": "6bff7690",
   "metadata": {},
   "outputs": [
    {
     "data": {
      "text/html": [
       "<div>\n",
       "<style scoped>\n",
       "    .dataframe tbody tr th:only-of-type {\n",
       "        vertical-align: middle;\n",
       "    }\n",
       "\n",
       "    .dataframe tbody tr th {\n",
       "        vertical-align: top;\n",
       "    }\n",
       "\n",
       "    .dataframe thead th {\n",
       "        text-align: right;\n",
       "    }\n",
       "</style>\n",
       "<table border=\"1\" class=\"dataframe\">\n",
       "  <thead>\n",
       "    <tr style=\"text-align: right;\">\n",
       "      <th></th>\n",
       "      <th>Authors</th>\n",
       "      <th>Titles</th>\n",
       "      <th>Advance</th>\n",
       "      <th>Royalty</th>\n",
       "    </tr>\n",
       "  </thead>\n",
       "  <tbody>\n",
       "    <tr>\n",
       "      <th>0</th>\n",
       "      <td>172-32-1176</td>\n",
       "      <td>PS3333</td>\n",
       "      <td>2000.0</td>\n",
       "      <td>29.985</td>\n",
       "    </tr>\n",
       "    <tr>\n",
       "      <th>1</th>\n",
       "      <td>213-46-8915</td>\n",
       "      <td>BU1032</td>\n",
       "      <td>2000.0</td>\n",
       "      <td>11.994</td>\n",
       "    </tr>\n",
       "    <tr>\n",
       "      <th>2</th>\n",
       "      <td>213-46-8915</td>\n",
       "      <td>BU2075</td>\n",
       "      <td>10125.0</td>\n",
       "      <td>25.116</td>\n",
       "    </tr>\n",
       "    <tr>\n",
       "      <th>3</th>\n",
       "      <td>238-95-7766</td>\n",
       "      <td>PC1035</td>\n",
       "      <td>7000.0</td>\n",
       "      <td>110.160</td>\n",
       "    </tr>\n",
       "    <tr>\n",
       "      <th>4</th>\n",
       "      <td>267-41-2394</td>\n",
       "      <td>BU1111</td>\n",
       "      <td>2000.0</td>\n",
       "      <td>11.950</td>\n",
       "    </tr>\n",
       "  </tbody>\n",
       "</table>\n",
       "</div>"
      ],
      "text/plain": [
       "       Authors  Titles  Advance  Royalty\n",
       "0  172-32-1176  PS3333   2000.0   29.985\n",
       "1  213-46-8915  BU1032   2000.0   11.994\n",
       "2  213-46-8915  BU2075  10125.0   25.116\n",
       "3  238-95-7766  PC1035   7000.0  110.160\n",
       "4  267-41-2394  BU1111   2000.0   11.950"
      ]
     },
     "execution_count": 30,
     "metadata": {},
     "output_type": "execute_result"
    }
   ],
   "source": [
    "df_ch2 = pd.read_sql_query(query_2, engine)\n",
    "df_ch2.head(5)"
   ]
  },
  {
   "cell_type": "code",
   "execution_count": 31,
   "id": "f2958186",
   "metadata": {},
   "outputs": [],
   "source": [
    "#Step 3\n",
    "query_3 = '''\n",
    "SELECT authors.au_id AS 'Authors',\n",
    "titles.title_id AS 'Titles',\n",
    "SUM (titles.advance * titleauthor.royaltyper) / 100 AS 'Advance',\n",
    "SUM (titles.price * sales.qty * titles.royalty / 100 * titleauthor.royaltyper) / 100 AS 'Royalty'\n",
    "\n",
    "\n",
    "FROM authors\n",
    "INNER JOIN titleauthor ON authors.au_id = titleauthor.au_id\n",
    "INNER JOIN titles ON titleauthor.title_id = titles.title_id \n",
    "LEFT JOIN sales ON titleauthor.title_id = sales.title_id\n",
    "\n",
    "GROUP BY authors.au_id, titles.title_id \n",
    "'''"
   ]
  },
  {
   "cell_type": "code",
   "execution_count": 32,
   "id": "4b5c1f29",
   "metadata": {},
   "outputs": [
    {
     "data": {
      "text/html": [
       "<div>\n",
       "<style scoped>\n",
       "    .dataframe tbody tr th:only-of-type {\n",
       "        vertical-align: middle;\n",
       "    }\n",
       "\n",
       "    .dataframe tbody tr th {\n",
       "        vertical-align: top;\n",
       "    }\n",
       "\n",
       "    .dataframe thead th {\n",
       "        text-align: right;\n",
       "    }\n",
       "</style>\n",
       "<table border=\"1\" class=\"dataframe\">\n",
       "  <thead>\n",
       "    <tr style=\"text-align: right;\">\n",
       "      <th></th>\n",
       "      <th>Authors</th>\n",
       "      <th>Titles</th>\n",
       "      <th>Advance</th>\n",
       "      <th>Royalty</th>\n",
       "    </tr>\n",
       "  </thead>\n",
       "  <tbody>\n",
       "    <tr>\n",
       "      <th>0</th>\n",
       "      <td>172-32-1176</td>\n",
       "      <td>PS3333</td>\n",
       "      <td>2000.0</td>\n",
       "      <td>29.985</td>\n",
       "    </tr>\n",
       "    <tr>\n",
       "      <th>1</th>\n",
       "      <td>213-46-8915</td>\n",
       "      <td>BU1032</td>\n",
       "      <td>4000.0</td>\n",
       "      <td>11.994</td>\n",
       "    </tr>\n",
       "    <tr>\n",
       "      <th>2</th>\n",
       "      <td>213-46-8915</td>\n",
       "      <td>BU2075</td>\n",
       "      <td>10125.0</td>\n",
       "      <td>25.116</td>\n",
       "    </tr>\n",
       "    <tr>\n",
       "      <th>3</th>\n",
       "      <td>238-95-7766</td>\n",
       "      <td>PC1035</td>\n",
       "      <td>7000.0</td>\n",
       "      <td>110.160</td>\n",
       "    </tr>\n",
       "    <tr>\n",
       "      <th>4</th>\n",
       "      <td>267-41-2394</td>\n",
       "      <td>BU1111</td>\n",
       "      <td>2000.0</td>\n",
       "      <td>11.950</td>\n",
       "    </tr>\n",
       "  </tbody>\n",
       "</table>\n",
       "</div>"
      ],
      "text/plain": [
       "       Authors  Titles  Advance  Royalty\n",
       "0  172-32-1176  PS3333   2000.0   29.985\n",
       "1  213-46-8915  BU1032   4000.0   11.994\n",
       "2  213-46-8915  BU2075  10125.0   25.116\n",
       "3  238-95-7766  PC1035   7000.0  110.160\n",
       "4  267-41-2394  BU1111   2000.0   11.950"
      ]
     },
     "execution_count": 32,
     "metadata": {},
     "output_type": "execute_result"
    }
   ],
   "source": [
    "df_ch3 = pd.read_sql_query(query_3, engine)\n",
    "df_ch3.head()"
   ]
  },
  {
   "cell_type": "markdown",
   "id": "d83d25ba",
   "metadata": {},
   "source": [
    "# Challenge 2"
   ]
  },
  {
   "cell_type": "code",
   "execution_count": null,
   "id": "82f6297b",
   "metadata": {},
   "outputs": [],
   "source": []
  }
 ],
 "metadata": {
  "kernelspec": {
   "display_name": "Python [conda env:m1_ih]",
   "language": "python",
   "name": "conda-env-m1_ih-py"
  },
  "language_info": {
   "codemirror_mode": {
    "name": "ipython",
    "version": 3
   },
   "file_extension": ".py",
   "mimetype": "text/x-python",
   "name": "python",
   "nbconvert_exporter": "python",
   "pygments_lexer": "ipython3",
   "version": "3.9.12"
  }
 },
 "nbformat": 4,
 "nbformat_minor": 5
}
