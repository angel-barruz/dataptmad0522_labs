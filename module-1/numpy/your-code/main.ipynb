{
 "cells": [
  {
   "cell_type": "markdown",
   "metadata": {},
   "source": [
    "# Introduction to NumPy\n",
    "\n",
    "\n",
    "#### 1. Import NumPy under the name np."
   ]
  },
  {
   "cell_type": "code",
   "execution_count": 3,
   "metadata": {},
   "outputs": [],
   "source": [
    "# your code here\n",
    "import numpy as np"
   ]
  },
  {
   "cell_type": "markdown",
   "metadata": {},
   "source": [
    "#### 2. Print your NumPy version."
   ]
  },
  {
   "cell_type": "code",
   "execution_count": 4,
   "metadata": {},
   "outputs": [
    {
     "name": "stdout",
     "output_type": "stream",
     "text": [
      "1.20.2\n"
     ]
    }
   ],
   "source": [
    "# your code here\n",
    "print (np.__version__)"
   ]
  },
  {
   "cell_type": "markdown",
   "metadata": {},
   "source": [
    "#### 3. Generate a 2x3x5 3-dimensional array with random values. Assign the array to variable *a*.\n",
    "**Challenge**: there are at least three easy ways that use numpy to generate random arrays. How many ways can you find?"
   ]
  },
  {
   "cell_type": "code",
   "execution_count": 5,
   "metadata": {},
   "outputs": [],
   "source": [
    "# Method 1\n",
    "a = np.random.random((2,3,5))\n"
   ]
  },
  {
   "cell_type": "code",
   "execution_count": 6,
   "metadata": {},
   "outputs": [],
   "source": [
    "# Method 2\n",
    "a = np.random.rand(2,3,5)"
   ]
  },
  {
   "cell_type": "code",
   "execution_count": 7,
   "metadata": {},
   "outputs": [],
   "source": [
    "# Method \n",
    "a = a.reshape(2,3,5)\n"
   ]
  },
  {
   "cell_type": "markdown",
   "metadata": {},
   "source": [
    "#### 4. Print *a*.\n"
   ]
  },
  {
   "cell_type": "code",
   "execution_count": 8,
   "metadata": {},
   "outputs": [
    {
     "data": {
      "text/plain": [
       "array([[[0.43126526, 0.33915131, 0.58535063, 0.42057709, 0.17279873],\n",
       "        [0.22869904, 0.7498781 , 0.81365343, 0.48276683, 0.91063326],\n",
       "        [0.63836209, 0.27281058, 0.90356603, 0.04357722, 0.76284828]],\n",
       "\n",
       "       [[0.86864282, 0.20765404, 0.55772155, 0.12873147, 0.3130681 ],\n",
       "        [0.57387796, 0.87745679, 0.95440454, 0.61045537, 0.40994355],\n",
       "        [0.89014685, 0.83005747, 0.72846839, 0.43635718, 0.42795783]]])"
      ]
     },
     "execution_count": 8,
     "metadata": {},
     "output_type": "execute_result"
    }
   ],
   "source": [
    "# your code here\n",
    "a"
   ]
  },
  {
   "cell_type": "markdown",
   "metadata": {},
   "source": [
    "#### 5. Create a 5x2x3 3-dimensional array with all values equaling 1. Assign the array to variable *b*."
   ]
  },
  {
   "cell_type": "code",
   "execution_count": 9,
   "metadata": {},
   "outputs": [],
   "source": [
    "# your code here\n",
    "b = np.ones((5,2,3))\n"
   ]
  },
  {
   "cell_type": "markdown",
   "metadata": {},
   "source": [
    "#### 6. Print *b*.\n"
   ]
  },
  {
   "cell_type": "code",
   "execution_count": 10,
   "metadata": {},
   "outputs": [
    {
     "data": {
      "text/plain": [
       "array([[[1., 1., 1.],\n",
       "        [1., 1., 1.]],\n",
       "\n",
       "       [[1., 1., 1.],\n",
       "        [1., 1., 1.]],\n",
       "\n",
       "       [[1., 1., 1.],\n",
       "        [1., 1., 1.]],\n",
       "\n",
       "       [[1., 1., 1.],\n",
       "        [1., 1., 1.]],\n",
       "\n",
       "       [[1., 1., 1.],\n",
       "        [1., 1., 1.]]])"
      ]
     },
     "execution_count": 10,
     "metadata": {},
     "output_type": "execute_result"
    }
   ],
   "source": [
    "# your code here\n",
    "b"
   ]
  },
  {
   "cell_type": "markdown",
   "metadata": {},
   "source": [
    "#### 7. Do *a* and *b* have the same size? How do you prove that in Python code?"
   ]
  },
  {
   "cell_type": "code",
   "execution_count": 11,
   "metadata": {},
   "outputs": [
    {
     "name": "stdout",
     "output_type": "stream",
     "text": [
      "30\n",
      "30\n"
     ]
    }
   ],
   "source": [
    "# your code here\n",
    "print (a.size)\n",
    "print (b.size)"
   ]
  },
  {
   "cell_type": "markdown",
   "metadata": {},
   "source": [
    "#### 8. Are you able to add *a* and *b*? Why or why not?\n"
   ]
  },
  {
   "cell_type": "code",
   "execution_count": 12,
   "metadata": {},
   "outputs": [
    {
     "ename": "ValueError",
     "evalue": "operands could not be broadcast together with shapes (2,3,5) (5,2,3) ",
     "output_type": "error",
     "traceback": [
      "\u001b[1;31m---------------------------------------------------------------------------\u001b[0m",
      "\u001b[1;31mValueError\u001b[0m                                Traceback (most recent call last)",
      "Input \u001b[1;32mIn [12]\u001b[0m, in \u001b[0;36m<cell line: 6>\u001b[1;34m()\u001b[0m\n\u001b[0;32m      3\u001b[0m a2\u001b[38;5;241m=\u001b[39m np\u001b[38;5;241m.\u001b[39marray ([[\u001b[38;5;241m4\u001b[39m,\u001b[38;5;241m4\u001b[39m,\u001b[38;5;241m4\u001b[39m],[\u001b[38;5;241m3\u001b[39m,\u001b[38;5;241m3\u001b[39m,\u001b[38;5;241m3\u001b[39m]])\n\u001b[0;32m      4\u001b[0m a1\u001b[38;5;241m+\u001b[39ma2\n\u001b[1;32m----> 6\u001b[0m \u001b[43ma\u001b[49m\u001b[38;5;241;43m+\u001b[39;49m\u001b[43mb\u001b[49m\n",
      "\u001b[1;31mValueError\u001b[0m: operands could not be broadcast together with shapes (2,3,5) (5,2,3) "
     ]
    }
   ],
   "source": [
    "# your answer here\n",
    "a1= np.array ([[1,1,1],[3,3,3]])\n",
    "a2= np.array ([[4,4,4],[3,3,3]])\n",
    "a1+a2\n",
    "\n",
    "a+b\n",
    "\n",
    "#it`s impossible add a + b  because they have differents dimensions\n",
    "\n"
   ]
  },
  {
   "cell_type": "markdown",
   "metadata": {},
   "source": [
    "#### 9. Transpose *b* so that it has the same structure of *a* (i.e. become a 2x3x5 array). Assign the transposed array to variable *c*."
   ]
  },
  {
   "cell_type": "code",
   "execution_count": 13,
   "metadata": {},
   "outputs": [
    {
     "data": {
      "text/plain": [
       "array([[[1., 1., 1., 1., 1.],\n",
       "        [1., 1., 1., 1., 1.],\n",
       "        [1., 1., 1., 1., 1.]],\n",
       "\n",
       "       [[1., 1., 1., 1., 1.],\n",
       "        [1., 1., 1., 1., 1.],\n",
       "        [1., 1., 1., 1., 1.]]])"
      ]
     },
     "execution_count": 13,
     "metadata": {},
     "output_type": "execute_result"
    }
   ],
   "source": [
    "# your code here\n",
    "\n",
    "\n",
    "c= np.transpose(b).reshape(2,3,5)\n",
    "c\n"
   ]
  },
  {
   "cell_type": "markdown",
   "metadata": {},
   "source": [
    "#### 10. Try to add *a* and *c*. Now it should work. Assign the sum to variable *d*. But why does it work now?"
   ]
  },
  {
   "cell_type": "code",
   "execution_count": 14,
   "metadata": {},
   "outputs": [
    {
     "data": {
      "text/plain": [
       "array([[[1.43126526, 1.33915131, 1.58535063, 1.42057709, 1.17279873],\n",
       "        [1.22869904, 1.7498781 , 1.81365343, 1.48276683, 1.91063326],\n",
       "        [1.63836209, 1.27281058, 1.90356603, 1.04357722, 1.76284828]],\n",
       "\n",
       "       [[1.86864282, 1.20765404, 1.55772155, 1.12873147, 1.3130681 ],\n",
       "        [1.57387796, 1.87745679, 1.95440454, 1.61045537, 1.40994355],\n",
       "        [1.89014685, 1.83005747, 1.72846839, 1.43635718, 1.42795783]]])"
      ]
     },
     "execution_count": 14,
     "metadata": {},
     "output_type": "execute_result"
    }
   ],
   "source": [
    "# your code/answer here\n",
    "d = np.add(a,c)\n",
    "d\n",
    "\n",
    "# because I convert the same strcuture (2,3,5)"
   ]
  },
  {
   "cell_type": "markdown",
   "metadata": {},
   "source": [
    "#### 11. Print *a* and *d*. Notice the difference and relation of the two array in terms of the values? Explain."
   ]
  },
  {
   "cell_type": "code",
   "execution_count": 15,
   "metadata": {},
   "outputs": [
    {
     "name": "stdout",
     "output_type": "stream",
     "text": [
      "[[[0.43126526 0.33915131 0.58535063 0.42057709 0.17279873]\n",
      "  [0.22869904 0.7498781  0.81365343 0.48276683 0.91063326]\n",
      "  [0.63836209 0.27281058 0.90356603 0.04357722 0.76284828]]\n",
      "\n",
      " [[0.86864282 0.20765404 0.55772155 0.12873147 0.3130681 ]\n",
      "  [0.57387796 0.87745679 0.95440454 0.61045537 0.40994355]\n",
      "  [0.89014685 0.83005747 0.72846839 0.43635718 0.42795783]]]\n",
      "float64\n",
      "[[[1.43126526 1.33915131 1.58535063 1.42057709 1.17279873]\n",
      "  [1.22869904 1.7498781  1.81365343 1.48276683 1.91063326]\n",
      "  [1.63836209 1.27281058 1.90356603 1.04357722 1.76284828]]\n",
      "\n",
      " [[1.86864282 1.20765404 1.55772155 1.12873147 1.3130681 ]\n",
      "  [1.57387796 1.87745679 1.95440454 1.61045537 1.40994355]\n",
      "  [1.89014685 1.83005747 1.72846839 1.43635718 1.42795783]]]\n",
      "float64\n"
     ]
    }
   ],
   "source": [
    "# your code/answer here\n",
    "print (a)\n",
    "print(a.dtype)\n",
    "print (d)\n",
    "print(d.dtype)"
   ]
  },
  {
   "cell_type": "markdown",
   "metadata": {},
   "source": [
    "#### 12. Multiply *a* and *c*. Assign the result to *e*."
   ]
  },
  {
   "cell_type": "code",
   "execution_count": 16,
   "metadata": {},
   "outputs": [
    {
     "data": {
      "text/plain": [
       "array([[[0.43126526, 0.33915131, 0.58535063, 0.42057709, 0.17279873],\n",
       "        [0.22869904, 0.7498781 , 0.81365343, 0.48276683, 0.91063326],\n",
       "        [0.63836209, 0.27281058, 0.90356603, 0.04357722, 0.76284828]],\n",
       "\n",
       "       [[0.86864282, 0.20765404, 0.55772155, 0.12873147, 0.3130681 ],\n",
       "        [0.57387796, 0.87745679, 0.95440454, 0.61045537, 0.40994355],\n",
       "        [0.89014685, 0.83005747, 0.72846839, 0.43635718, 0.42795783]]])"
      ]
     },
     "execution_count": 16,
     "metadata": {},
     "output_type": "execute_result"
    }
   ],
   "source": [
    "# your code here\n",
    "e = np.multiply (a,c)\n",
    "e"
   ]
  },
  {
   "cell_type": "markdown",
   "metadata": {},
   "source": [
    "#### 13. Does *e* equal to *a*? Why or why not?\n"
   ]
  },
  {
   "cell_type": "code",
   "execution_count": 17,
   "metadata": {},
   "outputs": [
    {
     "name": "stdout",
     "output_type": "stream",
     "text": [
      "float64\n",
      "float64\n",
      "3\n",
      "3\n"
     ]
    }
   ],
   "source": [
    "# your code/answer here\n",
    "print (e.dtype)\n",
    "print (a.dtype)\n",
    "print (e.ndim)\n",
    "print (a.ndim)"
   ]
  },
  {
   "cell_type": "markdown",
   "metadata": {},
   "source": [
    "#### 14. Identify the max, min, and mean values in *d*. Assign those values to variables *d_max*, *d_min* and *d_mean*."
   ]
  },
  {
   "cell_type": "code",
   "execution_count": 18,
   "metadata": {},
   "outputs": [
    {
     "data": {
      "text/plain": [
       "1.954404536352223"
      ]
     },
     "execution_count": 18,
     "metadata": {},
     "output_type": "execute_result"
    }
   ],
   "source": [
    "# your code here\n",
    "d_max = d.max()\n",
    "d_max"
   ]
  },
  {
   "cell_type": "code",
   "execution_count": 19,
   "metadata": {},
   "outputs": [
    {
     "data": {
      "text/plain": [
       "1.0435772224370397"
      ]
     },
     "execution_count": 19,
     "metadata": {},
     "output_type": "execute_result"
    }
   ],
   "source": [
    "d_min = d.min()\n",
    "d_min"
   ]
  },
  {
   "cell_type": "code",
   "execution_count": 20,
   "metadata": {},
   "outputs": [
    {
     "data": {
      "text/plain": [
       "1.552362727022388"
      ]
     },
     "execution_count": 20,
     "metadata": {},
     "output_type": "execute_result"
    }
   ],
   "source": [
    "d_mean = d.mean()\n",
    "d_mean"
   ]
  },
  {
   "cell_type": "markdown",
   "metadata": {},
   "source": [
    "#### 15. Now we want to label the values in *d*. First create an empty array *f* with the same shape (i.e. 2x3x5) as *d* using `np.empty`.\n"
   ]
  },
  {
   "cell_type": "code",
   "execution_count": 23,
   "metadata": {},
   "outputs": [
    {
     "data": {
      "text/plain": [
       "array([[[0.43126526, 0.33915131, 0.58535063, 0.42057709, 0.17279873],\n",
       "        [0.22869904, 0.7498781 , 0.81365343, 0.48276683, 0.91063326],\n",
       "        [0.63836209, 0.27281058, 0.90356603, 0.04357722, 0.76284828]],\n",
       "\n",
       "       [[0.86864282, 0.20765404, 0.55772155, 0.12873147, 0.3130681 ],\n",
       "        [0.57387796, 0.87745679, 0.95440454, 0.61045537, 0.40994355],\n",
       "        [0.89014685, 0.83005747, 0.72846839, 0.43635718, 0.42795783]]])"
      ]
     },
     "execution_count": 23,
     "metadata": {},
     "output_type": "execute_result"
    }
   ],
   "source": [
    "# your code here\n",
    "f = np.empty ((2,3,5))\n",
    "f"
   ]
  },
  {
   "cell_type": "markdown",
   "metadata": {},
   "source": [
    "#### 16. Populate the values in *f*. \n",
    "\n",
    "For each value in *d*, if it's larger than *d_min* but smaller than *d_mean*, assign 25 to the corresponding value in *f*. If a value in *d* is larger than *d_mean* but smaller than *d_max*, assign 75 to the corresponding value in *f*. If a value equals to *d_mean*, assign 50 to the corresponding value in *f*. Assign 0 to the corresponding value(s) in *f* for *d_min* in *d*. Assign 100 to the corresponding value(s) in *f* for *d_max* in *d*. In the end, f should have only the following values: 0, 25, 50, 75, and 100.\n",
    "\n",
    "**Note**: you don't have to use Numpy in this question."
   ]
  },
  {
   "cell_type": "code",
   "execution_count": 43,
   "metadata": {},
   "outputs": [
    {
     "name": "stdout",
     "output_type": "stream",
     "text": [
      "25\n",
      "25\n",
      "75\n",
      "25\n",
      "25\n",
      "25\n",
      "75\n",
      "75\n",
      "25\n",
      "75\n",
      "75\n",
      "25\n",
      "75\n",
      "0\n",
      "75\n",
      "75\n",
      "25\n",
      "75\n",
      "25\n",
      "25\n",
      "75\n",
      "75\n",
      "100\n",
      "75\n",
      "25\n",
      "75\n",
      "75\n",
      "75\n",
      "25\n",
      "25\n"
     ]
    }
   ],
   "source": [
    "# your code here\n",
    "for i in d:\n",
    "    for j in i:\n",
    "        for h in j:\n",
    "            if d_min<h<d_mean:\n",
    "                print(25)\n",
    "            if d_mean<h<d_max:\n",
    "                print(75)\n",
    "            if h==d_mean:\n",
    "                print(50)\n",
    "            if h==d_min:\n",
    "                print(0)\n",
    "            if h==d_max:\n",
    "                print(100)\n",
    "\n",
    "                "
   ]
  },
  {
   "cell_type": "markdown",
   "metadata": {},
   "source": [
    "#### 17. Print *d* and *f*. Do you have your expected *f*?\n",
    "For instance, if your *d* is:\n",
    "```python\n",
    "[[[1.85836099, 1.67064465, 1.62576044, 1.40243961, 1.88454931],\n",
    "[1.75354326, 1.69403643, 1.36729252, 1.61415071, 1.12104981],\n",
    "[1.72201435, 1.1862918 , 1.87078449, 1.7726778 , 1.88180042]],\n",
    "[[1.44747908, 1.31673383, 1.02000951, 1.52218947, 1.97066381],\n",
    "[1.79129243, 1.74983003, 1.96028037, 1.85166831, 1.65450881],\n",
    "[1.18068344, 1.9587381 , 1.00656599, 1.93402165, 1.73514584]]]\n",
    "```\n",
    "Your *f* should be:\n",
    "```python\n",
    "[[[ 75.,  75.,  75.,  25.,  75.],\n",
    "[ 75.,  75.,  25.,  25.,  25.],\n",
    "[ 75.,  25.,  75.,  75.,  75.]],\n",
    "[[ 25.,  25.,  25.,  25., 100.],\n",
    "[ 75.,  75.,  75.,  75.,  75.],\n",
    "[ 25.,  75.,   0.,  75.,  75.]]]\n",
    "```"
   ]
  },
  {
   "cell_type": "code",
   "execution_count": 44,
   "metadata": {},
   "outputs": [
    {
     "name": "stdout",
     "output_type": "stream",
     "text": [
      "[[[1.43126526 1.33915131 1.58535063 1.42057709 1.17279873]\n",
      "  [1.22869904 1.7498781  1.81365343 1.48276683 1.91063326]\n",
      "  [1.63836209 1.27281058 1.90356603 1.04357722 1.76284828]]\n",
      "\n",
      " [[1.86864282 1.20765404 1.55772155 1.12873147 1.3130681 ]\n",
      "  [1.57387796 1.87745679 1.95440454 1.61045537 1.40994355]\n",
      "  [1.89014685 1.83005747 1.72846839 1.43635718 1.42795783]]]\n"
     ]
    }
   ],
   "source": [
    "# your code here\n",
    "#no coincide con el resultado de la matriz d. No lo \n",
    "print (d)"
   ]
  },
  {
   "cell_type": "code",
   "execution_count": 45,
   "metadata": {},
   "outputs": [
    {
     "name": "stdout",
     "output_type": "stream",
     "text": [
      "[[[0.43126526 0.33915131 0.58535063 0.42057709 0.17279873]\n",
      "  [0.22869904 0.7498781  0.81365343 0.48276683 0.91063326]\n",
      "  [0.63836209 0.27281058 0.90356603 0.04357722 0.76284828]]\n",
      "\n",
      " [[0.86864282 0.20765404 0.55772155 0.12873147 0.3130681 ]\n",
      "  [0.57387796 0.87745679 0.95440454 0.61045537 0.40994355]\n",
      "  [0.89014685 0.83005747 0.72846839 0.43635718 0.42795783]]]\n"
     ]
    }
   ],
   "source": [
    "# no coincide con el resultado correcto de la matriz (f)\n",
    "print (f)"
   ]
  },
  {
   "cell_type": "markdown",
   "metadata": {},
   "source": [
    "#### 18. Bonus question: instead of using numbers (i.e. 0, 25, 50, 75, and 100), use string values  (\"A\", \"B\", \"C\", \"D\", and \"E\") to label the array elements. For the example above, the expected result is:\n",
    "\n",
    "```python\n",
    "[[[ 'D',  'D',  'D',  'B',  'D'],\n",
    "[ 'D',  'D',  'B',  'B',  'B'],\n",
    "[ 'D',  'B',  'D',  'D',  'D']],\n",
    "[[ 'B',  'B',  'B',  'B',  'E'],\n",
    "[ 'D',  'D',  'D',  'D',  'D'],\n",
    "[ 'B',  'D',   'A',  'D', 'D']]]\n",
    "```\n",
    "**Note**: you don't have to use Numpy in this question."
   ]
  },
  {
   "cell_type": "code",
   "execution_count": null,
   "metadata": {},
   "outputs": [],
   "source": [
    "# your code here"
   ]
  }
 ],
 "metadata": {
  "kernelspec": {
   "display_name": "Python 3 (ipykernel)",
   "language": "python",
   "name": "python3"
  },
  "language_info": {
   "codemirror_mode": {
    "name": "ipython",
    "version": 3
   },
   "file_extension": ".py",
   "mimetype": "text/x-python",
   "name": "python",
   "nbconvert_exporter": "python",
   "pygments_lexer": "ipython3",
   "version": "3.9.12"
  }
 },
 "nbformat": 4,
 "nbformat_minor": 2
}
